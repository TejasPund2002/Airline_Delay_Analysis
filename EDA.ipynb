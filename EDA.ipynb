{
 "cells": [
  {
   "cell_type": "code",
   "execution_count": 3,
   "id": "4da93a86",
   "metadata": {},
   "outputs": [],
   "source": [
    "import pandas as pd\n",
    "import mysql.connector\n",
    "from sqlalchemy import create_engine\n",
    "import matplotlib.pyplot as plt\n",
    "import seaborn as sns"
   ]
  },
  {
   "cell_type": "code",
   "execution_count": 4,
   "id": "16e6bf26",
   "metadata": {},
   "outputs": [
    {
     "name": "stdout",
     "output_type": "stream",
     "text": [
      "Dataset Shape: (26440, 21)\n",
      "Columns: Index(['year', 'month', 'carrier', 'carrier_name', 'airport', 'airport_name',\n",
      "       'arr_flights', 'arr_del15', 'carrier_ct', 'weather_ct', 'nas_ct',\n",
      "       'security_ct', 'late_aircraft_ct', 'arr_cancelled', 'arr_diverted',\n",
      "       'arr_delay', 'carrier_delay', 'weather_delay', 'nas_delay',\n",
      "       'security_delay', 'late_aircraft_delay'],\n",
      "      dtype='object')\n"
     ]
    }
   ],
   "source": [
    "# 1. Load Dataset\n",
    "# -----------------------------\n",
    "df = pd.read_csv(\"Airline_Delay_Cause.csv\")\n",
    "print(\"Dataset Shape:\", df.shape)\n",
    "print(\"Columns:\", df.columns)"
   ]
  },
  {
   "cell_type": "code",
   "execution_count": 5,
   "id": "2d149199",
   "metadata": {},
   "outputs": [
    {
     "name": "stdout",
     "output_type": "stream",
     "text": [
      "\n",
      "Missing Values Before:\n",
      " year                    0\n",
      "month                   0\n",
      "carrier                 0\n",
      "carrier_name            0\n",
      "airport                 0\n",
      "airport_name            0\n",
      "arr_flights            11\n",
      "arr_del15              14\n",
      "carrier_ct             11\n",
      "weather_ct             11\n",
      "nas_ct                 11\n",
      "security_ct            11\n",
      "late_aircraft_ct       11\n",
      "arr_cancelled          11\n",
      "arr_diverted           11\n",
      "arr_delay              11\n",
      "carrier_delay          11\n",
      "weather_delay          11\n",
      "nas_delay              11\n",
      "security_delay         11\n",
      "late_aircraft_delay    11\n",
      "dtype: int64\n"
     ]
    }
   ],
   "source": [
    "print(\"\\nMissing Values Before:\\n\", df.isnull().sum())"
   ]
  },
  {
   "cell_type": "code",
   "execution_count": 6,
   "id": "f2f91579",
   "metadata": {},
   "outputs": [
    {
     "name": "stdout",
     "output_type": "stream",
     "text": [
      "\n",
      "Missing Values After:\n",
      " year                   0\n",
      "month                  0\n",
      "carrier                0\n",
      "carrier_name           0\n",
      "airport                0\n",
      "airport_name           0\n",
      "arr_flights            0\n",
      "arr_del15              0\n",
      "carrier_ct             0\n",
      "weather_ct             0\n",
      "nas_ct                 0\n",
      "security_ct            0\n",
      "late_aircraft_ct       0\n",
      "arr_cancelled          0\n",
      "arr_diverted           0\n",
      "arr_delay              0\n",
      "carrier_delay          0\n",
      "weather_delay          0\n",
      "nas_delay              0\n",
      "security_delay         0\n",
      "late_aircraft_delay    0\n",
      "dtype: int64\n"
     ]
    },
    {
     "name": "stderr",
     "output_type": "stream",
     "text": [
      "C:\\Users\\Tejas Pund\\AppData\\Local\\Temp\\ipykernel_23708\\1930257755.py:7: FutureWarning: A value is trying to be set on a copy of a DataFrame or Series through chained assignment using an inplace method.\n",
      "The behavior will change in pandas 3.0. This inplace method will never work because the intermediate object on which we are setting values always behaves as a copy.\n",
      "\n",
      "For example, when doing 'df[col].method(value, inplace=True)', try using 'df.method({col: value}, inplace=True)' or df[col] = df[col].method(value) instead, to perform the operation inplace on the original object.\n",
      "\n",
      "\n",
      "  df[col].fillna(df[col].mean(), inplace=True)\n",
      "C:\\Users\\Tejas Pund\\AppData\\Local\\Temp\\ipykernel_23708\\1930257755.py:9: FutureWarning: A value is trying to be set on a copy of a DataFrame or Series through chained assignment using an inplace method.\n",
      "The behavior will change in pandas 3.0. This inplace method will never work because the intermediate object on which we are setting values always behaves as a copy.\n",
      "\n",
      "For example, when doing 'df[col].method(value, inplace=True)', try using 'df.method({col: value}, inplace=True)' or df[col] = df[col].method(value) instead, to perform the operation inplace on the original object.\n",
      "\n",
      "\n",
      "  df[col].fillna(df[col].mode()[0], inplace=True)\n"
     ]
    }
   ],
   "source": [
    "# Strategy:\n",
    "# - Numeric columns → fill with mean\n",
    "# - Categorical columns → fill with mode\n",
    "\n",
    "for col in df.columns:\n",
    "    if df[col].dtype in ['int64', 'float64']:\n",
    "        df[col].fillna(df[col].mean(), inplace=True)\n",
    "    else:\n",
    "        df[col].fillna(df[col].mode()[0], inplace=True)\n",
    "\n",
    "print(\"\\nMissing Values After:\\n\", df.isnull().sum())"
   ]
  },
  {
   "cell_type": "code",
   "execution_count": 7,
   "id": "1b7eb597",
   "metadata": {},
   "outputs": [
    {
     "name": "stdout",
     "output_type": "stream",
     "text": [
      "\n",
      "Average Delay by Airline:\n",
      " carrier_name\n",
      "American Airlines Network                  13970.681685\n",
      "Southwest Airlines                         12087.503739\n",
      "Delta Air Lines Network                     7828.734704\n",
      "United Air Lines Network                    7755.092421\n",
      "JetBlue Airways                             5811.247972\n",
      "Spirit Airlines                             5376.678230\n",
      "Frontier Airlines                           4785.969991\n",
      "PSA Airlines Inc.                           4682.531524\n",
      "SkyWest Airlines Inc.                       4196.853478\n",
      "Republic Airline                            3560.725589\n",
      "Endeavor Air Inc.                           2551.309091\n",
      "Alaska Airlines Network                     2493.429280\n",
      "Piedmont Airlines                           2396.814025\n",
      "Envoy Air                                   2222.138454\n",
      "Hawaiian Airlines Network                   2111.508197\n",
      "GoJet Airlines LLC d/b/a United Express     2075.344730\n",
      "Air Wisconsin Airlines Corp                 1905.665535\n",
      "CommuteAir LLC dba CommuteAir               1797.743288\n",
      "Mesa Airlines Inc.                          1739.982533\n",
      "Allegiant Air                               1630.722370\n",
      "Horizon Air                                 1126.461103\n",
      "Name: arr_delay, dtype: float64\n"
     ]
    }
   ],
   "source": [
    "# 3. Basic EDA\n",
    "# -----------------------------\n",
    "\n",
    "# Avg delay per airline\n",
    "avg_delay_airline = df.groupby(\"carrier_name\")[\"arr_delay\"].mean().sort_values(ascending=False)\n",
    "print(\"\\nAverage Delay by Airline:\\n\", avg_delay_airline)"
   ]
  },
  {
   "cell_type": "code",
   "execution_count": 8,
   "id": "e9304a83",
   "metadata": {},
   "outputs": [
    {
     "name": "stdout",
     "output_type": "stream",
     "text": [
      "\n",
      "Average Delay by Airport:\n",
      " airport_name\n",
      "Dallas/Fort Worth, TX: Dallas/Fort Worth International              47057.497006\n",
      "Denver, CO: Denver International                                    36744.944056\n",
      "Chicago, IL: Chicago O'Hare International                           31936.257282\n",
      "Atlanta, GA: Hartsfield-Jackson Atlanta International               28976.700508\n",
      "Charlotte, NC: Charlotte Douglas International                      28290.229947\n",
      "                                                                        ...     \n",
      "Santa Maria, CA: Santa Maria Public/Capt. G. Allan Hancock Field      145.428571\n",
      "Pago Pago, TT: Pago Pago International                                142.785714\n",
      "Saipan, TT: Francisco C. Ada Saipan International                     132.142857\n",
      "Adak Island, AK: Adak                                                  49.285714\n",
      "St. Cloud, MN: St. Cloud Regional                                      25.000000\n",
      "Name: arr_delay, Length: 360, dtype: float64\n"
     ]
    }
   ],
   "source": [
    "# Airport-wise delay\n",
    "avg_delay_airport = df.groupby(\"airport_name\")[\"arr_delay\"].mean().sort_values(ascending=False)\n",
    "print(\"\\nAverage Delay by Airport:\\n\", avg_delay_airport)"
   ]
  },
  {
   "cell_type": "code",
   "execution_count": 9,
   "id": "3b06712e",
   "metadata": {},
   "outputs": [
    {
     "data": {
      "image/png": "[encoded data removed]",
      "text/plain": [
       "<Figure size 800x600 with 1 Axes>"
      ]
     },
     "metadata": {},
     "output_type": "display_data"
    }
   ],
   "source": [
    "# Visualization - Delay reasons distribution\n",
    "plt.figure(figsize=(8,6))\n",
    "delay_cols = [\"carrier_delay\",\"weather_delay\",\"nas_delay\",\"security_delay\",\"late_aircraft_delay\"]\n",
    "df[delay_cols].sum().plot(kind=\"bar\")\n",
    "plt.title(\"Total Delay Reasons (Minutes)\")\n",
    "plt.xlabel(\"Reason\")\n",
    "plt.ylabel(\"Total Delay (Minutes)\")\n",
    "plt.show()"
   ]
  },
  {
   "cell_type": "code",
   "execution_count": 10,
   "id": "560632c9",
   "metadata": {},
   "outputs": [
    {
     "name": "stdout",
     "output_type": "stream",
     "text": [
      "✅ Data Imported Successfully into MySQL!\n"
     ]
    }
   ],
   "source": [
    "# 4. MySQL Connection\n",
    "# -----------------------------\n",
    "username = \"root\"   \n",
    "password = \"Tejas\" \n",
    "host = \"localhost\"\n",
    "database = \"airline_delay\"\n",
    "\n",
    "# SQLAlchemy engine\n",
    "engine = create_engine(f\"mysql+mysqlconnector://{username}:{password}@{host}/{database}\")\n",
    "\n",
    "df.to_sql(\"airline_delays\", con=engine, if_exists=\"replace\", index=False)\n",
    "print(\"✅ Data Imported Successfully into MySQL!\")"
   ]
  },
  {
   "cell_type": "code",
   "execution_count": 14,
   "id": "ea1c9d70",
   "metadata": {},
   "outputs": [],
   "source": [
    "def get_data_from_sql():\n",
    "    return pd.read_sql(\"SELECT * FROM airline_delays\", con=engine)\n",
    "def update_sql_from_pandas(df):\n",
    "    df.to_sql(\"airline_delays\", con=engine, if_exists=\"replace\", index=False)"
   ]
  },
  {
   "cell_type": "code",
   "execution_count": null,
   "id": "88d774ea",
   "metadata": {},
   "outputs": [
    {
     "name": "stdout",
     "output_type": "stream",
     "text": [
      "🔄 Auto Sync Started (every 15 seconds)...\n"
     ]
    },
    {
     "ename": "KeyboardInterrupt",
     "evalue": "",
     "output_type": "error",
     "traceback": [
      "\u001b[31m---------------------------------------------------------------------------\u001b[39m",
      "\u001b[31mKeyboardInterrupt\u001b[39m                         Traceback (most recent call last)",
      "\u001b[36mCell\u001b[39m\u001b[36m \u001b[39m\u001b[32mIn[15]\u001b[39m\u001b[32m, line 27\u001b[39m\n\u001b[32m     23\u001b[39m \u001b[38;5;66;03m# -------------------------------\u001b[39;00m\n\u001b[32m     24\u001b[39m \u001b[38;5;66;03m# Run Auto Sync\u001b[39;00m\n\u001b[32m     25\u001b[39m \u001b[38;5;66;03m# -------------------------------\u001b[39;00m\n\u001b[32m     26\u001b[39m \u001b[38;5;28;01mif\u001b[39;00m \u001b[34m__name__\u001b[39m == \u001b[33m\"\u001b[39m\u001b[33m__main__\u001b[39m\u001b[33m\"\u001b[39m:\n\u001b[32m---> \u001b[39m\u001b[32m27\u001b[39m     \u001b[43mauto_sync\u001b[49m\u001b[43m(\u001b[49m\u001b[43minterval\u001b[49m\u001b[43m=\u001b[49m\u001b[32;43m15\u001b[39;49m\u001b[43m)\u001b[49m  \u001b[38;5;66;03m# sync every 15 seconds\u001b[39;00m\n",
      "\u001b[36mCell\u001b[39m\u001b[36m \u001b[39m\u001b[32mIn[15]\u001b[39m\u001b[32m, line 10\u001b[39m, in \u001b[36mauto_sync\u001b[39m\u001b[34m(interval)\u001b[39m\n\u001b[32m      7\u001b[39m df_cache = get_data_from_sql()\n\u001b[32m      9\u001b[39m \u001b[38;5;28;01mwhile\u001b[39;00m \u001b[38;5;28;01mTrue\u001b[39;00m:\n\u001b[32m---> \u001b[39m\u001b[32m10\u001b[39m     \u001b[43mtime\u001b[49m\u001b[43m.\u001b[49m\u001b[43msleep\u001b[49m\u001b[43m(\u001b[49m\u001b[43minterval\u001b[49m\u001b[43m)\u001b[49m\n\u001b[32m     12\u001b[39m     \u001b[38;5;66;03m# --- Step 1: Check SQL Changes ---\u001b[39;00m\n\u001b[32m     13\u001b[39m     df_latest = get_data_from_sql()\n",
      "\u001b[31mKeyboardInterrupt\u001b[39m: "
     ]
    }
   ],
   "source": [
    "import time\n",
    "\n",
    "def auto_sync(interval=10):\n",
    "    global df_cache\n",
    "\n",
    "    print(\"🔄 Auto Sync Started (every\", interval, \"seconds)...\")\n",
    "    df_cache = get_data_from_sql()\n",
    "\n",
    "    while True:\n",
    "        time.sleep(interval)\n",
    "\n",
    "        df_latest = get_data_from_sql()\n",
    "        if not df_latest.equals(df_cache):\n",
    "            print(\"⚡ SQL changed → refreshing Pandas DataFrame\")\n",
    "            df_cache = df_latest.copy()\n",
    "\n",
    "        if not df_cache.equals(df_latest):\n",
    "            print(\"⚡ Pandas changed → updating SQL\")\n",
    "            update_sql_from_pandas(df_cache)\n",
    "\n",
    "# Run Auto Sync\n",
    "# -------------------------------\n",
    "if __name__ == \"__main__\":\n",
    "    auto_sync(interval=15)  "
   ]
  }
 ],
 "metadata": {
  "kernelspec": {
   "display_name": "venv (3.13.3)",
   "language": "python",
   "name": "python3"
  },
  "language_info": {
   "codemirror_mode": {
    "name": "ipython",
    "version": 3
   },
   "file_extension": ".py",
   "mimetype": "text/x-python",
   "name": "python",
   "nbconvert_exporter": "python",
   "pygments_lexer": "ipython3",
   "version": "3.13.3"
  }
 },
 "nbformat": 4,
 "nbformat_minor": 5
}
